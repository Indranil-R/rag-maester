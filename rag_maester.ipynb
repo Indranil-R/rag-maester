{
  "cells": [
    {
      "cell_type": "markdown",
      "metadata": {
        "id": "view-in-github",
        "colab_type": "text"
      },
      "source": [
        "<a href=\"https://colab.research.google.com/github/Indranil-R/rag-maester/blob/master/rag_maester.ipynb\" target=\"_parent\"><img src=\"https://colab.research.google.com/assets/colab-badge.svg\" alt=\"Open In Colab\"/></a>"
      ]
    },
    {
      "cell_type": "markdown",
      "id": "f875d2fa-8df2-4951-9bfb-87b71c8b5e1b",
      "metadata": {
        "id": "f875d2fa-8df2-4951-9bfb-87b71c8b5e1b"
      },
      "source": [
        "<!-- ![](assets/img/image.png) -->\n",
        "## RAG Maester\n",
        "**Your AI Scholar**\n",
        "\n",
        "Welcome to **RAG Maester**, an Academic AI assistant designed to support academic excellence.\n",
        "It leverages **Retrieval Augmented Generation (RAG)** to meticulously search its knowledge base and craft well-informed responses, designed to assist with university assignments and tasks.\n"
      ]
    },
    {
      "cell_type": "code",
      "source": [
        "import os\n",
        "import requests"
      ],
      "metadata": {
        "id": "SbNoeCZ-IEFR"
      },
      "id": "SbNoeCZ-IEFR",
      "execution_count": 3,
      "outputs": []
    },
    {
      "cell_type": "code",
      "source": [
        "# Downloading the required modules\n",
        "if os.path.isfile(\"requirements.txt\"):\n",
        "  print(\"Requirements.txt already exists. Downloading modules...\")\n",
        "else:\n",
        "  print(\"Requirements.txt doesn't exist downloading from github...\")\n",
        "  url = 'https://raw.githubusercontent.com/Indranil-R/rag-maester/refs/heads/master/requirements.txt'\n",
        "  response = requests.get(url)\n",
        "\n",
        "  with open('requirements.txt', 'w', encoding='utf-8') as file:\n",
        "    file.write(response.text)\n",
        "  print(\"File downloaded successfully.\")\n",
        "\n",
        "# !pip install -q -r requirements.txt  # Enable it only if dependencies are not installed, I have installed already"
      ],
      "metadata": {
        "collapsed": true,
        "id": "QbdP1TauEu-D",
        "outputId": "8b8404f9-c037-4298-eca3-acead532bd52",
        "colab": {
          "base_uri": "https://localhost:8080/"
        }
      },
      "id": "QbdP1TauEu-D",
      "execution_count": 4,
      "outputs": [
        {
          "output_type": "stream",
          "name": "stdout",
          "text": [
            "Requirements.txt already exists. Downloading modules...\n"
          ]
        }
      ]
    },
    {
      "cell_type": "markdown",
      "id": "ac42ccfa-7fdf-44ff-9e93-aabc88c74453",
      "metadata": {
        "id": "ac42ccfa-7fdf-44ff-9e93-aabc88c74453"
      },
      "source": [
        "## Importing all required third party libraries\n",
        "\n",
        "---\n",
        "\n"
      ]
    },
    {
      "cell_type": "code",
      "execution_count": 60,
      "id": "3e896eba-e5de-45a3-89e2-0de1167d6222",
      "metadata": {
        "id": "3e896eba-e5de-45a3-89e2-0de1167d6222"
      },
      "outputs": [],
      "source": [
        "from google.colab import userdata\n",
        "from loguru import logger\n",
        "from langchain.text_splitter import RecursiveCharacterTextSplitter\n",
        "from langchain_community.document_loaders import PyPDFLoader\n",
        "from langchain_chroma import Chroma\n",
        "from langchain_google_genai import GoogleGenerativeAIEmbeddings\n",
        "from langchain_google_genai import ChatGoogleGenerativeAI\n"
      ]
    },
    {
      "cell_type": "code",
      "source": [
        "# Setting up Google API key\n",
        "os.environ[\"GOOGLE_API_KEY\"] = userdata.get('GOOGLE_API_KEY')\n",
        "\n",
        "if os.getenv('GOOGLE_API_KEY') == None:\n",
        "  logger.error(\"Google API key is not set properly\")"
      ],
      "metadata": {
        "id": "d-QNUpRJMLqf"
      },
      "id": "d-QNUpRJMLqf",
      "execution_count": 35,
      "outputs": []
    },
    {
      "cell_type": "markdown",
      "id": "d42d5fee-8773-47c9-a070-80aae4524516",
      "metadata": {
        "id": "d42d5fee-8773-47c9-a070-80aae4524516"
      },
      "source": [
        "## 1. Upload and Ingest Documents 📄"
      ]
    },
    {
      "cell_type": "markdown",
      "id": "42271c07-9995-4d18-a2e4-5b2abb3c7088",
      "metadata": {
        "id": "42271c07-9995-4d18-a2e4-5b2abb3c7088"
      },
      "source": [
        "### Scan the docs directory for all available documents"
      ]
    },
    {
      "cell_type": "code",
      "execution_count": 7,
      "id": "0b0c0b93-1cf3-409f-993c-10b0bf91b43f",
      "metadata": {
        "jupyter": {
          "source_hidden": true
        },
        "id": "0b0c0b93-1cf3-409f-993c-10b0bf91b43f"
      },
      "outputs": [],
      "source": [
        "# Fetch all file paths from a directory\n",
        "\n",
        "def fetch_all_docs(docs_path: str) -> list[str]:\n",
        "    docs_list = []\n",
        "    if not os.path.isdir(docs_path):\n",
        "        print(f\"Warning: The path '{docs_path}' is not a valid directory or does not exist.\")\n",
        "        return []\n",
        "    try:\n",
        "        for item_name in os.listdir(docs_path):\n",
        "            item_full_path = os.path.join(docs_path, item_name)\n",
        "            if os.path.isfile(item_full_path):\n",
        "                docs_list.append(item_full_path)\n",
        "    except OSError as e:\n",
        "        logger.error(f\"Error accessing or reading directory '{docs_path}': {e}\")\n",
        "        return []\n",
        "    return docs_list"
      ]
    },
    {
      "cell_type": "code",
      "execution_count": 36,
      "id": "962f7cfa-8f7f-4dba-8a1d-36b2b30730bb",
      "metadata": {
        "id": "962f7cfa-8f7f-4dba-8a1d-36b2b30730bb",
        "outputId": "abe1a062-e257-4e0a-abac-a7ab2bcdb190",
        "colab": {
          "base_uri": "https://localhost:8080/"
        }
      },
      "outputs": [
        {
          "output_type": "stream",
          "name": "stderr",
          "text": [
            "\u001b[32m2025-05-16 22:31:17.248\u001b[0m | \u001b[1mINFO    \u001b[0m | \u001b[36m__main__\u001b[0m:\u001b[36m<cell line: 0>\u001b[0m:\u001b[36m4\u001b[0m - \u001b[1mTotal number of documents found: 1\u001b[0m\n"
          ]
        }
      ],
      "source": [
        "# Fetching all documents from the docs directory\n",
        "documents_list = fetch_all_docs(os.getcwd() + \"/docs\")\n",
        "\n",
        "logger.info(f\"Total number of documents found: {len(documents_list)}\")"
      ]
    },
    {
      "cell_type": "markdown",
      "id": "73fc996afb95cabb",
      "metadata": {
        "id": "73fc996afb95cabb"
      },
      "source": [
        "#### Split the documents into smaller chunks"
      ]
    },
    {
      "cell_type": "code",
      "execution_count": 10,
      "id": "c4602da5-1e12-461c-ab02-dedd3101f839",
      "metadata": {
        "jupyter": {
          "source_hidden": true
        },
        "id": "c4602da5-1e12-461c-ab02-dedd3101f839"
      },
      "outputs": [],
      "source": [
        "# Clean text by removing predefined phrases\n",
        "\n",
        "def clean_text(text):\n",
        "    removal_phrases = [\n",
        "        \"(c) Amity University Online\",\n",
        "        \"Notes\",\n",
        "        \"Amity Directorate of Distance & Online Education\",\n",
        "        \"Introduction to E-Governance\"\n",
        "    ]\n",
        "    for phrase in removal_phrases:\n",
        "        text = text.replace(phrase, \"\")\n",
        "    return text.strip()\n"
      ]
    },
    {
      "cell_type": "code",
      "execution_count": 11,
      "id": "f00ca8da-23c6-4f4f-92a8-0fdb1a25b547",
      "metadata": {
        "jupyter": {
          "source_hidden": true
        },
        "id": "f00ca8da-23c6-4f4f-92a8-0fdb1a25b547"
      },
      "outputs": [],
      "source": [
        "# Load a PDF from the 6th page onward, clean, and split into chunks\n",
        "\n",
        "def load_and_split_pdf(doc_path):\n",
        "    loader = PyPDFLoader(file_path=doc_path, mode=\"page\")\n",
        "    all_pages = loader.load()\n",
        "    relevant_pages = all_pages[5:]\n",
        "    for page in relevant_pages:\n",
        "        page.page_content = clean_text(page.page_content)\n",
        "    text_splitter = RecursiveCharacterTextSplitter(\n",
        "        chunk_size=1500,\n",
        "        chunk_overlap=250,\n",
        "        separators=[\"\\n\\n\", \"\\n\", \".\", \" \"],\n",
        "    )\n",
        "    return text_splitter.split_documents(relevant_pages)\n"
      ]
    },
    {
      "cell_type": "code",
      "execution_count": 12,
      "id": "4ab2708b5edf5152",
      "metadata": {
        "jupyter": {
          "source_hidden": true
        },
        "id": "4ab2708b5edf5152"
      },
      "outputs": [],
      "source": [
        "# Process multiple PDF documents into cleaned, chunked outputs\n",
        "\n",
        "def process_documents(documents_path_list: list[str]) -> list:\n",
        "    all_processed_chunks = []\n",
        "    for doc_path in documents_path_list:\n",
        "        print(f\"Processing document: {doc_path}\")\n",
        "        try:\n",
        "            single_doc_chunks = load_and_split_pdf(doc_path)\n",
        "            if single_doc_chunks:\n",
        "                all_processed_chunks.extend(single_doc_chunks)\n",
        "                print(f\"Successfully processed and extracted {len(single_doc_chunks)} chunks from {doc_path}\")\n",
        "            else:\n",
        "                print(f\"No relevant chunks extracted from {doc_path}.\")\n",
        "        except FileNotFoundError:\n",
        "            print(f\"Error: Document not found at {doc_path}. Skipping this document.\")\n",
        "        except Exception as e:\n",
        "            print(f\"Error processing document {doc_path}: {e}. Skipping this document.\")\n",
        "    return all_processed_chunks\n"
      ]
    },
    {
      "cell_type": "code",
      "execution_count": 40,
      "id": "de142ddf38b6c5e3",
      "metadata": {
        "id": "de142ddf38b6c5e3",
        "outputId": "52dafcec-3eea-4300-c60a-f7266b76acf4",
        "colab": {
          "base_uri": "https://localhost:8080/"
        }
      },
      "outputs": [
        {
          "output_type": "stream",
          "name": "stdout",
          "text": [
            "Processing document: /content/docs/Introduction to E-Governance F-CSIT326 S.pdf\n",
            "Successfully processed and extracted 978 chunks from /content/docs/Introduction to E-Governance F-CSIT326 S.pdf\n"
          ]
        }
      ],
      "source": [
        "documents = process_documents(documents_list)"
      ]
    },
    {
      "cell_type": "markdown",
      "id": "ea554aef-a1c8-4457-bfff-e71d0c2f21fe",
      "metadata": {
        "id": "ea554aef-a1c8-4457-bfff-e71d0c2f21fe"
      },
      "source": [
        "# 2. Create Embeddings 🧠"
      ]
    },
    {
      "cell_type": "code",
      "source": [
        "# Creating the embeddding function here\n",
        "\n",
        "# Also using the latest embdedding function here :)\n",
        "# embedding_fn = GoogleGenerativeAIEmbeddings(model=\"models/gemini-embedding-exp-03-07\")\n",
        "# Resource has been exhausted, its not free switching to a free one :(\n",
        "\n",
        "embedding_fn = GoogleGenerativeAIEmbeddings(model=\"models/text-embedding-004\")"
      ],
      "metadata": {
        "id": "JS_Vhjg2LieN"
      },
      "id": "JS_Vhjg2LieN",
      "execution_count": 44,
      "outputs": []
    },
    {
      "cell_type": "code",
      "source": [
        "vector_db = Chroma.from_documents(documents,embedding=embedding_fn)"
      ],
      "metadata": {
        "id": "TFJFXEryLLnE"
      },
      "id": "TFJFXEryLLnE",
      "execution_count": 45,
      "outputs": []
    },
    {
      "cell_type": "code",
      "source": [
        "logger.info(f\"Embeddings created successfully\")"
      ],
      "metadata": {
        "id": "OpXzwLMFQe_x",
        "outputId": "244da9e8-8119-461a-d0a2-eb2f67f35262",
        "colab": {
          "base_uri": "https://localhost:8080/"
        }
      },
      "id": "OpXzwLMFQe_x",
      "execution_count": 47,
      "outputs": [
        {
          "output_type": "stream",
          "name": "stderr",
          "text": [
            "\u001b[32m2025-05-16 22:41:31.577\u001b[0m | \u001b[1mINFO    \u001b[0m | \u001b[36m__main__\u001b[0m:\u001b[36m<cell line: 0>\u001b[0m:\u001b[36m1\u001b[0m - \u001b[1mEmbeddings created successfully\u001b[0m\n"
          ]
        }
      ]
    },
    {
      "cell_type": "markdown",
      "source": [
        "### Creating the vector retreiver"
      ],
      "metadata": {
        "id": "pIPG-66CQrtv"
      },
      "id": "pIPG-66CQrtv"
    },
    {
      "cell_type": "code",
      "source": [
        "retriever = vector_db.as_retriever(search_type=\"similarity\", search_kwargs={\"k\": 5})\n",
        "retrieved_docs = retriever.invoke(\"What is Digital Divide?\")\n",
        "logger.debug(retrieved_docs[0].page_content)"
      ],
      "metadata": {
        "collapsed": true,
        "id": "4yLobB_VQwKP",
        "outputId": "5d3bcc7e-aef1-4e07-a08f-4954580a68a2",
        "colab": {
          "base_uri": "https://localhost:8080/"
        }
      },
      "id": "4yLobB_VQwKP",
      "execution_count": 59,
      "outputs": [
        {
          "output_type": "stream",
          "name": "stderr",
          "text": [
            "\u001b[32m2025-05-16 22:46:10.455\u001b[0m | \u001b[34m\u001b[1mDEBUG   \u001b[0m | \u001b[36m__main__\u001b[0m:\u001b[36m<cell line: 0>\u001b[0m:\u001b[36m3\u001b[0m - \u001b[34m\u001b[1mthe digital divide is “the difference between individuals, families, enterprises, and \n",
            "geographic regions with varying socio-economic levels in terms of their access to \n",
            "information and communication technologies (ICTs) and their usage of the internet for a \n",
            "wide range of activities.” \n",
            "It represents numerous variances between and between nations. Singh adds to \n",
            "this description, “[it] is not only about those who have access and those who do not; it is \n",
            "not only about the haves and the have-nots. It is about people becoming knowers and \n",
            "non-knowers, doers and non-doers, communicators with the rest of the world and non-\n",
            "communicators.” The digital divide is viewed from two distinct theoretical approaches.   \n",
            "The technological diffusion normalisation model predicts that, although \n",
            "technological expansion may be gradual at first, it will eventually follow a normalisation \n",
            "route and ICTs will become pervasive across all nations and social strata. \n",
            "In contrast, the stratification model of technology diffusion postulates that privileged \n",
            "social groups and wealthy nations would keep their advantage in the digital economy \n",
            "even as digital use expands globally, hence sustaining digital inequities. Amina \n",
            "Mohammed, Deputy Secretary-General of the United Nations, has asserted that the \n",
            "digital gap has the potential to become the “new face of inequality.”\n",
            "The digital gap poses the greatest risk of worsening disparities in the least\u001b[0m\n"
          ]
        }
      ]
    },
    {
      "cell_type": "markdown",
      "source": [
        "### Invoking the LLM to structure and return the response"
      ],
      "metadata": {
        "id": "i1YkSgYKRl93"
      },
      "id": "i1YkSgYKRl93"
    },
    {
      "cell_type": "code",
      "source": [
        "logger.info(\"Initializing the Gemini LLM instance\")\n",
        "llm = ChatGoogleGenerativeAI(model=\"gemini-2.0-flash\",temperature=0.2, max_tokens=500)"
      ],
      "metadata": {
        "id": "aDFtNcu6R8eh",
        "outputId": "b174d257-7ca6-4c72-b9a0-306f3ead3de5",
        "colab": {
          "base_uri": "https://localhost:8080/"
        }
      },
      "id": "aDFtNcu6R8eh",
      "execution_count": 61,
      "outputs": [
        {
          "output_type": "stream",
          "name": "stderr",
          "text": [
            "\u001b[32m2025-05-16 22:51:14.196\u001b[0m | \u001b[1mINFO    \u001b[0m | \u001b[36m__main__\u001b[0m:\u001b[36m<cell line: 0>\u001b[0m:\u001b[36m1\u001b[0m - \u001b[1mInitializing the Gemini LLM instance\u001b[0m\n"
          ]
        }
      ]
    },
    {
      "cell_type": "code",
      "source": [
        "from langchain.chains import create_retrieval_chain\n",
        "from langchain.chains.combine_documents import create_stuff_documents_chain\n",
        "from langchain_core.prompts import ChatPromptTemplate\n",
        "\n",
        "system_prompt = (\n",
        "    \"You are an assistant for question-answering tasks. \"\n",
        "    \"Use the following pieces of retrieved context to answer the question.\"\n",
        "    \"If you don't know the answer, say that you don't know.\"\n",
        "    \"Use three sentences maximum and keep the answer concise.\"\n",
        "    \"\\n\\n\"\n",
        "    \"{context}\"\n",
        "    \"Below are some examples showing a question and answer format:\"\n",
        "    \"\"\"\n",
        "    Question: The use of e-governance helps make all functions of the ____________ transparent.\n",
        "              Question 1\n",
        "              Answer a. retail.\n",
        "              b. business.\n",
        "              c. Both A & B.\n",
        "              d. None of the above.\n",
        "\n",
        "    Answer:  b. business.\n",
        "\n",
        "\n",
        "    Question: __________does not directly links to accountability.\n",
        "\n",
        "              Question 2Answer\n",
        "              a.\n",
        "              Opaque.\n",
        "              b.\n",
        "              Transparency.\n",
        "              c.\n",
        "              Both A & B.\n",
        "              d.\n",
        "              None of the above.\n",
        "\n",
        "    Answer:  a. Opaque.\n",
        "\n",
        "\n",
        "\n",
        "    Now, Answer the user question correctly given the example formats above:\n",
        "\n",
        "\n",
        "    \"\"\"\n",
        ")\n",
        "\n",
        "prompt = ChatPromptTemplate.from_messages(\n",
        "    [\n",
        "        (\"system\", system_prompt),\n",
        "        (\"human\", \"{input}\"),\n",
        "    ]\n",
        ")"
      ],
      "metadata": {
        "id": "hEjXrGWUS4Zy"
      },
      "id": "hEjXrGWUS4Zy",
      "execution_count": 62,
      "outputs": []
    },
    {
      "cell_type": "code",
      "source": [
        "question_answer_chain = create_stuff_documents_chain(llm, prompt)\n",
        "rag_chain = create_retrieval_chain(retriever, question_answer_chain)"
      ],
      "metadata": {
        "id": "vgmr5h1xTA74"
      },
      "id": "vgmr5h1xTA74",
      "execution_count": 63,
      "outputs": []
    },
    {
      "cell_type": "code",
      "source": [
        "response = rag_chain.invoke({\"input\": \"\"\"\n",
        "The use of e-governance helps make all functions of the ____________ transparent.\n",
        "\n",
        "a. retail\n",
        "b. business\n",
        "c. Both A & B\n",
        "d. None of the above\n",
        "\"\"\"})\n",
        "print(response[\"answer\"])"
      ],
      "metadata": {
        "id": "3NSN_jgiTC94",
        "outputId": "62e23a3a-cc99-4951-96fb-40f8afa376a2",
        "colab": {
          "base_uri": "https://localhost:8080/"
        }
      },
      "id": "3NSN_jgiTC94",
      "execution_count": 66,
      "outputs": [
        {
          "output_type": "stream",
          "name": "stdout",
          "text": [
            "The answer is (b) Transparency. Transparency and the rule of law are essential for accountability. E-Government also makes government information more readily available to the public, increasing transparency.\n"
          ]
        }
      ]
    },
    {
      "cell_type": "markdown",
      "id": "b93e9b98-c290-42dd-9991-85432944135d",
      "metadata": {
        "id": "b93e9b98-c290-42dd-9991-85432944135d"
      },
      "source": [
        "## 3. Creating the UI"
      ]
    },
    {
      "cell_type": "markdown",
      "id": "66425af824fb172d",
      "metadata": {
        "id": "66425af824fb172d"
      },
      "source": [
        "### 3.1. Using Streamlit"
      ]
    }
  ],
  "metadata": {
    "kernelspec": {
      "display_name": "Python 3 (ipykernel)",
      "language": "python",
      "name": "python3"
    },
    "language_info": {
      "codemirror_mode": {
        "name": "ipython",
        "version": 3
      },
      "file_extension": ".py",
      "mimetype": "text/x-python",
      "name": "python",
      "nbconvert_exporter": "python",
      "pygments_lexer": "ipython3",
      "version": "3.9.17"
    },
    "colab": {
      "provenance": [],
      "toc_visible": true,
      "include_colab_link": true
    }
  },
  "nbformat": 4,
  "nbformat_minor": 5
}