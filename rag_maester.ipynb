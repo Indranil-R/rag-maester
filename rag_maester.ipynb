{
  "cells": [
    {
      "cell_type": "markdown",
      "metadata": {
        "colab_type": "text",
        "id": "view-in-github"
      },
      "source": [
        "<a href=\"https://colab.research.google.com/github/Indranil-R/rag-maester/blob/master/rag_maester.ipynb\" target=\"_parent\"><img src=\"https://colab.research.google.com/assets/colab-badge.svg\" alt=\"Open In Colab\"/></a>"
      ]
    },
    {
      "cell_type": "markdown",
      "id": "f875d2fa-8df2-4951-9bfb-87b71c8b5e1b",
      "metadata": {
        "id": "f875d2fa-8df2-4951-9bfb-87b71c8b5e1b"
      },
      "source": [
        "<!-- ![](assets/img/image.png) -->\n",
        "## RAG Maester\n",
        "**Your AI Scholar**\n",
        "\n",
        "Welcome to **RAG Maester**, an Academic AI assistant designed to support academic excellence.\n",
        "It leverages **Retrieval Augmented Generation (RAG)** to meticulously search its knowledge base and craft well-informed responses, designed to assist with university assignments and tasks.\n"
      ]
    },
    {
      "cell_type": "code",
      "execution_count": 10,
      "id": "SbNoeCZ-IEFR",
      "metadata": {
        "id": "SbNoeCZ-IEFR"
      },
      "outputs": [],
      "source": [
        "import os\n",
        "import requests"
      ]
    },
    {
      "cell_type": "code",
      "execution_count": 11,
      "id": "QbdP1TauEu-D",
      "metadata": {
        "colab": {
          "base_uri": "https://localhost:8080/"
        },
        "collapsed": true,
        "id": "QbdP1TauEu-D",
        "outputId": "8b8404f9-c037-4298-eca3-acead532bd52"
      },
      "outputs": [
        {
          "name": "stdout",
          "output_type": "stream",
          "text": [
            "Requirements.txt already exists. Downloading modules...\n"
          ]
        }
      ],
      "source": [
        "# Downloading the required modules\n",
        "if os.path.isfile(\"requirements.txt\"):\n",
        "  print(\"Requirements.txt already exists. Downloading modules...\")\n",
        "else:\n",
        "  print(\"Requirements.txt doesn't exist downloading from github...\")\n",
        "  url = 'https://raw.githubusercontent.com/Indranil-R/rag-maester/refs/heads/master/requirements.txt'\n",
        "  response = requests.get(url)\n",
        "\n",
        "  with open('requirements.txt', 'w', encoding='utf-8') as file:\n",
        "    file.write(response.text)\n",
        "  print(\"File downloaded successfully.\")\n",
        "\n",
        "# !pip install -q -r requirements.txt  # Enable it only if dependencies are not installed, I have installed already"
      ]
    },
    {
      "cell_type": "markdown",
      "id": "ac42ccfa-7fdf-44ff-9e93-aabc88c74453",
      "metadata": {
        "id": "ac42ccfa-7fdf-44ff-9e93-aabc88c74453"
      },
      "source": [
        "## Importing all required third party libraries\n",
        "\n",
        "---\n",
        "\n"
      ]
    },
    {
      "cell_type": "code",
      "execution_count": 12,
      "id": "3e896eba-e5de-45a3-89e2-0de1167d6222",
      "metadata": {
        "id": "3e896eba-e5de-45a3-89e2-0de1167d6222"
      },
      "outputs": [],
      "source": [
        "if os.getenv(\"COLAB_RELEASE_TAG\"):\n",
        "    from google.colab import userdata\n",
        "else:\n",
        "    # do nothing\n",
        "    pass\n",
        "    \n",
        "\n",
        "from loguru import logger\n",
        "from langchain.text_splitter import RecursiveCharacterTextSplitter\n",
        "from langchain_community.document_loaders import PyPDFLoader\n",
        "from langchain_chroma import Chroma\n",
        "from langchain_google_genai import GoogleGenerativeAIEmbeddings\n",
        "from langchain_google_genai import ChatGoogleGenerativeAI\n"
      ]
    },
    {
      "cell_type": "code",
      "execution_count": 13,
      "id": "d-QNUpRJMLqf",
      "metadata": {
        "id": "d-QNUpRJMLqf"
      },
      "outputs": [],
      "source": [
        "# Setting up Google API key\n",
        "if os.getenv('GOOGLE_API_KEY') == None:\n",
        "  os.environ[\"GOOGLE_API_KEY\"] = userdata.get('GOOGLE_API_KEY')"
      ]
    },
    {
      "cell_type": "markdown",
      "id": "d42d5fee-8773-47c9-a070-80aae4524516",
      "metadata": {
        "id": "d42d5fee-8773-47c9-a070-80aae4524516"
      },
      "source": [
        "## 1. Upload and Ingest Documents 📄"
      ]
    },
    {
      "cell_type": "markdown",
      "id": "42271c07-9995-4d18-a2e4-5b2abb3c7088",
      "metadata": {
        "id": "42271c07-9995-4d18-a2e4-5b2abb3c7088"
      },
      "source": [
        "### Scan the docs directory for all available documents"
      ]
    },
    {
      "cell_type": "code",
      "execution_count": 76,
      "id": "0b0c0b93-1cf3-409f-993c-10b0bf91b43f",
      "metadata": {
        "id": "0b0c0b93-1cf3-409f-993c-10b0bf91b43f",
        "jupyter": {
          "source_hidden": true
        }
      },
      "outputs": [],
      "source": [
        "# Fetch all file paths from a directory\n",
        "\n",
        "def fetch_all_docs(docs_path: str) -> list[str]:\n",
        "    docs_list = []\n",
        "    if not os.path.isdir(docs_path):\n",
        "        print(f\"Warning: The path '{docs_path}' is not a valid directory or does not exist.\")\n",
        "        return []\n",
        "    try:\n",
        "        for item_name in os.listdir(docs_path):\n",
        "            item_full_path = os.path.join(docs_path, item_name)\n",
        "            if os.path.isfile(item_full_path):\n",
        "                docs_list.append(item_full_path)\n",
        "    except OSError as e:\n",
        "        logger.error(f\"Error accessing or reading directory '{docs_path}': {e}\")\n",
        "        return []\n",
        "    return docs_list"
      ]
    },
    {
      "cell_type": "code",
      "execution_count": 77,
      "id": "962f7cfa-8f7f-4dba-8a1d-36b2b30730bb",
      "metadata": {
        "colab": {
          "base_uri": "https://localhost:8080/"
        },
        "id": "962f7cfa-8f7f-4dba-8a1d-36b2b30730bb",
        "outputId": "abe1a062-e257-4e0a-abac-a7ab2bcdb190"
      },
      "outputs": [
        {
          "name": "stderr",
          "output_type": "stream",
          "text": [
            "\u001b[32m2025-05-17 05:59:58.918\u001b[0m | \u001b[1mINFO    \u001b[0m | \u001b[36m__main__\u001b[0m:\u001b[36m<module>\u001b[0m:\u001b[36m4\u001b[0m - \u001b[1mTotal number of documents found: 3\u001b[0m\n"
          ]
        }
      ],
      "source": [
        "# Fetching all documents from the docs directory\n",
        "documents_list = fetch_all_docs(os.getcwd() + \"/docs\")\n",
        "\n",
        "logger.info(f\"Total number of documents found: {len(documents_list)}\")"
      ]
    },
    {
      "cell_type": "markdown",
      "id": "73fc996afb95cabb",
      "metadata": {
        "id": "73fc996afb95cabb"
      },
      "source": [
        "#### Split the documents into smaller chunks"
      ]
    },
    {
      "cell_type": "code",
      "execution_count": 78,
      "id": "c4602da5-1e12-461c-ab02-dedd3101f839",
      "metadata": {
        "id": "c4602da5-1e12-461c-ab02-dedd3101f839",
        "jupyter": {
          "source_hidden": true
        }
      },
      "outputs": [],
      "source": [
        "# Clean text by removing predefined phrases\n",
        "\n",
        "def clean_text(text):\n",
        "    removal_phrases = [\n",
        "        \"(c) Amity University Online\",\n",
        "        \"Notes\",\n",
        "        \"Amity Directorate of Distance & Online Education\",\n",
        "        \"Introduction to E-Governance\"\n",
        "    ]\n",
        "    for phrase in removal_phrases:\n",
        "        text = text.replace(phrase, \"\")\n",
        "    return text.strip()\n"
      ]
    },
    {
      "cell_type": "code",
      "execution_count": 79,
      "id": "f00ca8da-23c6-4f4f-92a8-0fdb1a25b547",
      "metadata": {
        "id": "f00ca8da-23c6-4f4f-92a8-0fdb1a25b547",
        "jupyter": {
          "source_hidden": true
        }
      },
      "outputs": [],
      "source": [
        "# Load a PDF from the 6th page onward, clean, and split into chunks\n",
        "\n",
        "def load_and_split_pdf(doc_path):\n",
        "    loader = PyPDFLoader(file_path=doc_path, mode=\"page\")\n",
        "    all_pages = loader.load()\n",
        "    relevant_pages = all_pages[5:]\n",
        "    for page in relevant_pages:\n",
        "        page.page_content = clean_text(page.page_content)\n",
        "    text_splitter = RecursiveCharacterTextSplitter(\n",
        "        chunk_size=1500,\n",
        "        chunk_overlap=250,\n",
        "        separators=[\"\\n\\n\", \"\\n\", \".\", \" \"],\n",
        "    )\n",
        "    return text_splitter.split_documents(relevant_pages)\n"
      ]
    },
    {
      "cell_type": "code",
      "execution_count": 82,
      "id": "4ab2708b5edf5152",
      "metadata": {
        "id": "4ab2708b5edf5152",
        "jupyter": {
          "source_hidden": true
        }
      },
      "outputs": [],
      "source": [
        "# Process multiple PDF documents into cleaned, chunked outputs\n",
        "\n",
        "def process_documents(documents_path_list: list[str]) -> list:\n",
        "    all_processed_chunks = []\n",
        "    for doc_path in documents_path_list:\n",
        "        logger.info(f\"Processing document: {doc_path}\")\n",
        "        try:\n",
        "            single_doc_chunks = load_and_split_pdf(doc_path)\n",
        "            if single_doc_chunks:\n",
        "                all_processed_chunks.extend(single_doc_chunks)\n",
        "                logger.info(f\"Successfully processed and extracted {len(single_doc_chunks)} chunks from {doc_path}\")\n",
        "            else:\n",
        "                logger.warning(f\"No relevant chunks found in {doc_path}.\")\n",
        "        except FileNotFoundError:\n",
        "            logger.error(f\"File not found: {doc_path}. Please check the file path.\")\n",
        "        except Exception as e:\n",
        "            logger.error(f\"Error processing document {doc_path}: {e}\")\n",
        "    return all_processed_chunks\n"
      ]
    },
    {
      "cell_type": "code",
      "execution_count": 83,
      "id": "de142ddf38b6c5e3",
      "metadata": {
        "colab": {
          "base_uri": "https://localhost:8080/"
        },
        "id": "de142ddf38b6c5e3",
        "outputId": "52dafcec-3eea-4300-c60a-f7266b76acf4"
      },
      "outputs": [
        {
          "name": "stderr",
          "output_type": "stream",
          "text": [
            "\u001b[32m2025-05-17 06:01:22.957\u001b[0m | \u001b[1mINFO    \u001b[0m | \u001b[36m__main__\u001b[0m:\u001b[36mprocess_documents\u001b[0m:\u001b[36m6\u001b[0m - \u001b[1mProcessing document: c:\\Projects\\rag-maester/docs\\Blockchain Technologies F-CSIT358-B.pdf\u001b[0m\n",
            "\u001b[32m2025-05-17 06:01:28.579\u001b[0m | \u001b[1mINFO    \u001b[0m | \u001b[36m__main__\u001b[0m:\u001b[36mprocess_documents\u001b[0m:\u001b[36m11\u001b[0m - \u001b[1mSuccessfully processed and extracted 985 chunks from c:\\Projects\\rag-maester/docs\\Blockchain Technologies F-CSIT358-B.pdf\u001b[0m\n",
            "\u001b[32m2025-05-17 06:01:28.580\u001b[0m | \u001b[1mINFO    \u001b[0m | \u001b[36m__main__\u001b[0m:\u001b[36mprocess_documents\u001b[0m:\u001b[36m6\u001b[0m - \u001b[1mProcessing document: c:\\Projects\\rag-maester/docs\\Introduction to Data Science F-CSIT359-S.pdf\u001b[0m\n",
            "\u001b[32m2025-05-17 06:01:34.733\u001b[0m | \u001b[1mINFO    \u001b[0m | \u001b[36m__main__\u001b[0m:\u001b[36mprocess_documents\u001b[0m:\u001b[36m11\u001b[0m - \u001b[1mSuccessfully processed and extracted 960 chunks from c:\\Projects\\rag-maester/docs\\Introduction to Data Science F-CSIT359-S.pdf\u001b[0m\n",
            "\u001b[32m2025-05-17 06:01:34.733\u001b[0m | \u001b[1mINFO    \u001b[0m | \u001b[36m__main__\u001b[0m:\u001b[36mprocess_documents\u001b[0m:\u001b[36m6\u001b[0m - \u001b[1mProcessing document: c:\\Projects\\rag-maester/docs\\Introduction to E-Governance F-CSIT326 S.pdf\u001b[0m\n",
            "\u001b[32m2025-05-17 06:01:40.745\u001b[0m | \u001b[1mINFO    \u001b[0m | \u001b[36m__main__\u001b[0m:\u001b[36mprocess_documents\u001b[0m:\u001b[36m11\u001b[0m - \u001b[1mSuccessfully processed and extracted 974 chunks from c:\\Projects\\rag-maester/docs\\Introduction to E-Governance F-CSIT326 S.pdf\u001b[0m\n"
          ]
        }
      ],
      "source": [
        "documents = process_documents(documents_list)"
      ]
    },
    {
      "cell_type": "markdown",
      "id": "ea554aef-a1c8-4457-bfff-e71d0c2f21fe",
      "metadata": {
        "id": "ea554aef-a1c8-4457-bfff-e71d0c2f21fe"
      },
      "source": [
        "# 2. Create Embeddings 🧠"
      ]
    },
    {
      "cell_type": "code",
      "execution_count": null,
      "id": "JS_Vhjg2LieN",
      "metadata": {
        "id": "JS_Vhjg2LieN"
      },
      "outputs": [],
      "source": [
        "# Creating the embeddding function here\n",
        "\n",
        "# Also using the latest embdedding function here :)\n",
        "# embedding_fn = GoogleGenerativeAIEmbeddings(model=\"models/gemini-embedding-exp-03-07\")\n",
        "# Resource has been exhausted, its not free switching to a free one :(\n",
        "\n",
        "embedding_fn = GoogleGenerativeAIEmbeddings(model=\"models/text-embedding-004\")"
      ]
    },
    {
      "cell_type": "code",
      "execution_count": 111,
      "id": "TFJFXEryLLnE",
      "metadata": {
        "id": "TFJFXEryLLnE"
      },
      "outputs": [],
      "source": [
        "persist_directory = 'db'\n",
        "if not os.path.exists(persist_directory):\n",
        "    os.makedirs(persist_directory, exist_ok=True)\n",
        "\n",
        "# Creating the memory vector database\n",
        "# vectordb = Chroma.from_documents(documents,embedding=embedding_fn,persist_directory=persist_directory)\n",
        "\n",
        "vectordb = Chroma(persist_directory=persist_directory, embedding_function=embedding_fn)\n"
      ]
    },
    {
      "cell_type": "markdown",
      "id": "pIPG-66CQrtv",
      "metadata": {
        "id": "pIPG-66CQrtv"
      },
      "source": [
        "### Creating the vector retreiver"
      ]
    },
    {
      "cell_type": "code",
      "execution_count": 112,
      "id": "4yLobB_VQwKP",
      "metadata": {
        "colab": {
          "base_uri": "https://localhost:8080/"
        },
        "collapsed": true,
        "id": "4yLobB_VQwKP",
        "outputId": "5d3bcc7e-aef1-4e07-a08f-4954580a68a2"
      },
      "outputs": [
        {
          "name": "stderr",
          "output_type": "stream",
          "text": [
            "\u001b[32m2025-05-17 06:17:31.142\u001b[0m | \u001b[34m\u001b[1mDEBUG   \u001b[0m | \u001b[36m__main__\u001b[0m:\u001b[36m<module>\u001b[0m:\u001b[36m3\u001b[0m - \u001b[34m\u001b[1mpage_content='Because Bitcoin is decentralised, it is not governed by a bank or other centralised \n",
            "entity. Instead, it is kept up by a group of autonomous nodes connected by a network. As a result, censorship and manipulation cannot affect Bitcoin.\n",
            "Cryptography is used by Bitcoin to safeguard transactions and regulate the \n",
            "issuance of new units of the currency. The system uses sophisticated mathematical techniques to ensure that transactions cannot be copied or faked, and transactions are signed with cryptographic keys that are specific to each user and are generated for each transaction.\n",
            "Transaction fees, which are paid to miners to entice them to process the \n",
            "transaction, may apply to bitcoin transactions. The cost is often determined by the transaction’s size in bytes and the network’s level of congestion at the time.\n",
            "The finite supply of Bitcoin is one of its main characteristics. There will only ever be \n",
            "21 million bitcoins in circulation, and the creation rate will gradually decline over time. Due to this, Bitcoin is a deflationary currency, which implies that its value will likely rise with time.\n",
            "The anonymity of Bitcoin is a key component. Users can conduct transactions on' metadata={'page': 237, 'creationdate': '2023-04-27T10:54:25+05:30', 'source': 'c:\\\\Projects\\\\rag-maester/docs\\\\Blockchain Technologies F-CSIT358-B.pdf', 'moddate': '2023-04-28T09:37:03+05:30', 'total_pages': 297, 'trapped': '/False', 'producer': 'PDFill PDF Editor 15.0', 'creator': 'Adobe InDesign CS6 (Windows)', 'page_label': '238'}\u001b[0m\n"
          ]
        }
      ],
      "source": [
        "retriever = vectordb.as_retriever(search_type=\"similarity\", search_kwargs={\"k\": 7})\n",
        "retrieved_docs = retriever.invoke(\"What is benefit of Bitcoin?\")\n",
        "logger.debug(retrieved_docs[0])"
      ]
    },
    {
      "cell_type": "markdown",
      "id": "i1YkSgYKRl93",
      "metadata": {
        "id": "i1YkSgYKRl93"
      },
      "source": [
        "### Invoking the LLM to structure and return the response"
      ]
    },
    {
      "cell_type": "code",
      "execution_count": 87,
      "id": "aDFtNcu6R8eh",
      "metadata": {
        "colab": {
          "base_uri": "https://localhost:8080/"
        },
        "id": "aDFtNcu6R8eh",
        "outputId": "b174d257-7ca6-4c72-b9a0-306f3ead3de5"
      },
      "outputs": [
        {
          "name": "stderr",
          "output_type": "stream",
          "text": [
            "\u001b[32m2025-05-17 06:09:16.029\u001b[0m | \u001b[1mINFO    \u001b[0m | \u001b[36m__main__\u001b[0m:\u001b[36m<module>\u001b[0m:\u001b[36m1\u001b[0m - \u001b[1mInitializing the Gemini LLM instance\u001b[0m\n"
          ]
        }
      ],
      "source": [
        "logger.info(\"Initializing the Gemini LLM instance\")\n",
        "llm = ChatGoogleGenerativeAI(model=\"gemini-2.0-flash\",temperature=0.3, max_tokens=500)"
      ]
    },
    {
      "cell_type": "code",
      "execution_count": 88,
      "id": "hEjXrGWUS4Zy",
      "metadata": {
        "id": "hEjXrGWUS4Zy"
      },
      "outputs": [],
      "source": [
        "from langchain.chains import create_retrieval_chain\n",
        "from langchain.chains.combine_documents import create_stuff_documents_chain\n",
        "from langchain_core.prompts import ChatPromptTemplate\n",
        "\n",
        "system_prompt = (\n",
        "    \"You are an assistant for question-answering tasks. \"\n",
        "    \"Use the following pieces of retrieved context to answer the question.\"\n",
        "    \"If you don't know the answer, say that you don't know.\"\n",
        "    \"Use three sentences maximum and keep the answer concise.\"\n",
        "    \"\\n\\n\"\n",
        "    \"{context}\"\n",
        "    \"Below are some examples showing a question and answer format:\"\n",
        "    \"\"\"\n",
        "    Question: The use of e-governance helps make all functions of the ____________ transparent.\n",
        "              Question 1\n",
        "              Answer a. retail.\n",
        "              b. business.\n",
        "              c. Both A & B.\n",
        "              d. None of the above.\n",
        "\n",
        "    Answer:  b. business.\n",
        "                Because e-governance is a system that uses technology to improve the efficiency and transparency of government operations, making it easier for citizens to access information and services.\n",
        "\n",
        "\n",
        "    Question: __________does not directly links to accountability.\n",
        "\n",
        "              Question 2Answer\n",
        "              a.\n",
        "              Opaque.\n",
        "              b.\n",
        "              Transparency.\n",
        "              c.\n",
        "              Both A & B.\n",
        "              d.\n",
        "              None of the above.\n",
        "\n",
        "    Answer:  a. Opaque.\n",
        "                Because Opaque means not able to be seen through; not transparent. In the context of accountability, it suggests a lack of clarity or openness in processes or decisions, which does not directly link to accountability.\n",
        "\n",
        "\n",
        "\n",
        "    Now, Answer the user question correctly given the example formats above:\n",
        "\n",
        "\n",
        "    \"\"\"\n",
        ")\n",
        "\n",
        "prompt = ChatPromptTemplate.from_messages(\n",
        "    [\n",
        "        (\"system\", system_prompt),\n",
        "        (\"human\", \"{input}\"),\n",
        "    ]\n",
        ")"
      ]
    },
    {
      "cell_type": "code",
      "execution_count": 89,
      "id": "vgmr5h1xTA74",
      "metadata": {
        "id": "vgmr5h1xTA74"
      },
      "outputs": [],
      "source": [
        "question_answer_chain = create_stuff_documents_chain(llm, prompt)\n",
        "rag_chain = create_retrieval_chain(retriever, question_answer_chain)"
      ]
    },
    {
      "cell_type": "code",
      "execution_count": 94,
      "id": "3NSN_jgiTC94",
      "metadata": {
        "colab": {
          "base_uri": "https://localhost:8080/"
        },
        "id": "3NSN_jgiTC94",
        "outputId": "62e23a3a-cc99-4951-96fb-40f8afa376a2"
      },
      "outputs": [
        {
          "name": "stdout",
          "output_type": "stream",
          "text": [
            "Answer: c. A person can work on different approach.\n",
            "\n",
            "Data science offers a diverse range of employment prospects, ranging from computing to research. One of the benefits of doing data science is that it results in the data being saved in digital format. It protects the data that would otherwise be at risk of being lost in papers, which in turn supports a decrease in costs.\n"
          ]
        }
      ],
      "source": [
        "response = rag_chain.invoke({\"input\": \"\"\"\n",
        "What is the advantage of Data Science?\n",
        "\n",
        "Question 1Answer\n",
        "a.\n",
        "It is blurry\n",
        "\n",
        "b.\n",
        "Gives good salary\n",
        "\n",
        "c.\n",
        "A person can work on different approach\n",
        "\n",
        "d.\n",
        "It is very good defined\n",
        "\"\"\"})\n",
        "print(response[\"answer\"])"
      ]
    },
    {
      "cell_type": "markdown",
      "id": "b93e9b98-c290-42dd-9991-85432944135d",
      "metadata": {
        "id": "b93e9b98-c290-42dd-9991-85432944135d"
      },
      "source": [
        "## 3. Creating the UI"
      ]
    },
    {
      "cell_type": "markdown",
      "id": "66425af824fb172d",
      "metadata": {
        "id": "66425af824fb172d"
      },
      "source": [
        "### 3.1. Using Streamlit"
      ]
    }
  ],
  "metadata": {
    "colab": {
      "include_colab_link": true,
      "provenance": [],
      "toc_visible": true
    },
    "kernelspec": {
      "display_name": "base",
      "language": "python",
      "name": "python3"
    },
    "language_info": {
      "codemirror_mode": {
        "name": "ipython",
        "version": 3
      },
      "file_extension": ".py",
      "mimetype": "text/x-python",
      "name": "python",
      "nbconvert_exporter": "python",
      "pygments_lexer": "ipython3",
      "version": "3.9.17"
    }
  },
  "nbformat": 4,
  "nbformat_minor": 5
}
